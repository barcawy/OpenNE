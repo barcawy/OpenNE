{
 "cells": [
  {
   "cell_type": "code",
   "execution_count": 36,
   "metadata": {},
   "outputs": [],
   "source": [
    "import numpy as np\n",
    "import networkx as nx\n",
    "\n",
    "train_pos_file = 'E:/Project/OpenNE/predict_data/ppi/train.txt.npy'\n",
    "train_pos_arr = np.load(open(train_pos_file, 'rb'))\n",
    "test_pos_file = 'E:/Project/OpenNE/predict_data/ppi/test.txt.npy'\n",
    "test_pos_arr = np.load(open(test_pos_file, 'rb'))"
   ]
  },
  {
   "cell_type": "code",
   "execution_count": 82,
   "metadata": {},
   "outputs": [],
   "source": [
    "a = np.ndarray(shape=(10,2), dtype=int)\n",
    "np.savetxt('a.txt', a, fmt='%d')"
   ]
  },
  {
   "cell_type": "code",
   "execution_count": 83,
   "metadata": {},
   "outputs": [
    {
     "data": {
      "text/plain": [
       "array([[4128860, 6029375],\n",
       "       [3801157, 5242972],\n",
       "       [7274610, 6619242],\n",
       "       [7602275, 5177436],\n",
       "       [6619248, 5111918],\n",
       "       [6029381, 7471219],\n",
       "       [6029411, 7340143],\n",
       "       [7209061, 6619246],\n",
       "       [6357084, 7602222],\n",
       "       [7602296,       0]])"
      ]
     },
     "execution_count": 83,
     "metadata": {},
     "output_type": "execute_result"
    }
   ],
   "source": [
    "a"
   ]
  },
  {
   "cell_type": "code",
   "execution_count": 84,
   "metadata": {},
   "outputs": [
    {
     "name": "stdout",
     "output_type": "stream",
     "text": [
      "4128860 6029375\n",
      "\n",
      "3801157 5242972\n",
      "\n",
      "7274610 6619242\n",
      "\n",
      "7602275 5177436\n",
      "\n",
      "6619248 5111918\n",
      "\n",
      "6029381 7471219\n",
      "\n",
      "6029411 7340143\n",
      "\n",
      "7209061 6619246\n",
      "\n",
      "6357084 7602222\n",
      "\n",
      "7602296 0\n",
      "\n",
      "\n"
     ]
    }
   ],
   "source": [
    "G = nx.DiGraph()\n",
    "def read_unweighted(l):\n",
    "    src, dst = l.split()\n",
    "    G.add_edge(src, dst)\n",
    "    G.add_edge(dst, src)\n",
    "    G[src][dst]['weight'] = 1.0\n",
    "    G[dst][src]['weight'] = 1.0\n",
    "fin = open('a.txt', 'r')\n",
    "func = read_unweighted\n",
    "while 1:\n",
    "    l = fin.readline()\n",
    "    print(l)\n",
    "    if l == '':\n",
    "        break\n",
    "        func(l)\n",
    "fin.close()"
   ]
  },
  {
   "cell_type": "code",
   "execution_count": 73,
   "metadata": {},
   "outputs": [
    {
     "data": {
      "text/plain": [
       "array([[-1625550984,         675],\n",
       "       [         48,           0],\n",
       "       [          0,           0],\n",
       "       [          0,           0],\n",
       "       [          0,     6422633],\n",
       "       [ 1868767867,   975332708],\n",
       "       [ 1634890786,  1885302377],\n",
       "       [ 1633645423,   928739954],\n",
       "       [  573317725,  1667594341],\n",
       "       [ 1869182069,  1868783470]])"
      ]
     },
     "execution_count": 73,
     "metadata": {},
     "output_type": "execute_result"
    }
   ],
   "source": [
    "a\n"
   ]
  },
  {
   "cell_type": "code",
   "execution_count": 44,
   "metadata": {},
   "outputs": [],
   "source": [
    "\n",
    "g = nx.DiGraph()\n",
    "\n",
    "for data in train_pos_arr:\n",
    "    g.add_edge(data[0], data[1])\n",
    "    g.add_edge(data[1], data[0])\n",
    "    g[data[0]][data[1]]['weight'] = 1\n",
    "    g[data[1]][data[0]]['weight'] = 1"
   ]
  },
  {
   "cell_type": "code",
   "execution_count": 45,
   "metadata": {},
   "outputs": [],
   "source": [
    "vec = {}\n",
    "for node in g.nodes():\n",
    "    vec[node] = [1,2]"
   ]
  },
  {
   "cell_type": "code",
   "execution_count": 49,
   "metadata": {},
   "outputs": [
    {
     "ename": "KeyError",
     "evalue": "45663",
     "output_type": "error",
     "traceback": [
      "\u001b[1;31m---------------------------------------------------------------------------\u001b[0m",
      "\u001b[1;31mKeyError\u001b[0m                                  Traceback (most recent call last)",
      "\u001b[1;32m<ipython-input-49-64ec7ba75a22>\u001b[0m in \u001b[0;36m<module>\u001b[1;34m\u001b[0m\n\u001b[1;32m----> 1\u001b[1;33m \u001b[0mvec\u001b[0m\u001b[1;33m[\u001b[0m\u001b[1;36m45663\u001b[0m\u001b[1;33m]\u001b[0m\u001b[1;33m\u001b[0m\u001b[1;33m\u001b[0m\u001b[0m\n\u001b[0m",
      "\u001b[1;31mKeyError\u001b[0m: 45663"
     ]
    }
   ],
   "source": [
    "vec[45663]"
   ]
  },
  {
   "cell_type": "code",
   "execution_count": 11,
   "metadata": {},
   "outputs": [
    {
     "ename": "ImportError",
     "evalue": "attempted relative import with no known parent package",
     "output_type": "error",
     "traceback": [
      "\u001b[1;31m---------------------------------------------------------------------------\u001b[0m",
      "\u001b[1;31mImportError\u001b[0m                               Traceback (most recent call last)",
      "\u001b[1;32m<ipython-input-11-5a5463582d71>\u001b[0m in \u001b[0;36m<module>\u001b[1;34m\u001b[0m\n\u001b[1;32m----> 1\u001b[1;33m \u001b[1;32mfrom\u001b[0m \u001b[0mnode2vec\u001b[0m \u001b[1;32mimport\u001b[0m \u001b[0mNode2vec\u001b[0m\u001b[1;33m\u001b[0m\u001b[1;33m\u001b[0m\u001b[0m\n\u001b[0m\u001b[0;32m      2\u001b[0m \u001b[1;33m\u001b[0m\u001b[0m\n\u001b[0;32m      3\u001b[0m model = Node2vec(graph=g, path_length=10,\n\u001b[0;32m      4\u001b[0m                                   \u001b[0mnum_paths\u001b[0m\u001b[1;33m=\u001b[0m\u001b[1;36m10\u001b[0m\u001b[1;33m,\u001b[0m \u001b[0mdim\u001b[0m\u001b[1;33m=\u001b[0m\u001b[1;36m32\u001b[0m\u001b[1;33m,\u001b[0m\u001b[1;33m\u001b[0m\u001b[1;33m\u001b[0m\u001b[0m\n\u001b[0;32m      5\u001b[0m                                   workers=8, window=4, dw=True)\n",
      "\u001b[1;32mE:\\Project\\OpenNE\\src\\openne\\node2vec.py\u001b[0m in \u001b[0;36m<module>\u001b[1;34m\u001b[0m\n\u001b[0;32m      3\u001b[0m \u001b[1;32mimport\u001b[0m \u001b[0mnumpy\u001b[0m \u001b[1;32mas\u001b[0m \u001b[0mnp\u001b[0m\u001b[1;33m\u001b[0m\u001b[1;33m\u001b[0m\u001b[0m\n\u001b[0;32m      4\u001b[0m \u001b[1;32mfrom\u001b[0m \u001b[0mgensim\u001b[0m\u001b[1;33m.\u001b[0m\u001b[0mmodels\u001b[0m \u001b[1;32mimport\u001b[0m \u001b[0mWord2Vec\u001b[0m\u001b[1;33m\u001b[0m\u001b[1;33m\u001b[0m\u001b[0m\n\u001b[1;32m----> 5\u001b[1;33m \u001b[1;32mfrom\u001b[0m \u001b[1;33m.\u001b[0m \u001b[1;32mimport\u001b[0m \u001b[0mwalker\u001b[0m\u001b[1;33m\u001b[0m\u001b[1;33m\u001b[0m\u001b[0m\n\u001b[0m\u001b[0;32m      6\u001b[0m \u001b[1;33m\u001b[0m\u001b[0m\n\u001b[0;32m      7\u001b[0m \u001b[1;33m\u001b[0m\u001b[0m\n",
      "\u001b[1;31mImportError\u001b[0m: attempted relative import with no known parent package"
     ]
    }
   ],
   "source": [
    "from node2vec import Node2vec\n",
    "\n",
    "model = Node2vec(graph=g, path_length=10,\n",
    "                                  num_paths=10, dim=32,\n",
    "                                  workers=8, window=4, dw=True)"
   ]
  },
  {
   "cell_type": "code",
   "execution_count": 64,
   "metadata": {},
   "outputs": [],
   "source": [
    "vec = {}\n",
    "vec[0] = {123}\n",
    "vec['0'] = {456}"
   ]
  },
  {
   "cell_type": "code",
   "execution_count": 66,
   "metadata": {},
   "outputs": [
    {
     "ename": "KeyError",
     "evalue": "'609'",
     "output_type": "error",
     "traceback": [
      "\u001b[1;31m---------------------------------------------------------------------------\u001b[0m",
      "\u001b[1;31mKeyError\u001b[0m                                  Traceback (most recent call last)",
      "\u001b[1;32m<ipython-input-66-58295bb5ebcd>\u001b[0m in \u001b[0;36m<module>\u001b[1;34m\u001b[0m\n\u001b[0;32m      4\u001b[0m         \u001b[1;32mbreak\u001b[0m\u001b[1;33m\u001b[0m\u001b[1;33m\u001b[0m\u001b[0m\n\u001b[0;32m      5\u001b[0m     \u001b[0mj\u001b[0m \u001b[1;33m+=\u001b[0m \u001b[1;36m1\u001b[0m\u001b[1;33m\u001b[0m\u001b[1;33m\u001b[0m\u001b[0m\n\u001b[1;32m----> 6\u001b[1;33m     \u001b[0mprint\u001b[0m\u001b[1;33m(\u001b[0m\u001b[0mvec\u001b[0m\u001b[1;33m[\u001b[0m\u001b[0mstr\u001b[0m\u001b[1;33m(\u001b[0m\u001b[0mi\u001b[0m\u001b[1;33m[\u001b[0m\u001b[1;36m1\u001b[0m\u001b[1;33m]\u001b[0m\u001b[1;33m)\u001b[0m\u001b[1;33m]\u001b[0m\u001b[1;33m)\u001b[0m\u001b[1;33m\u001b[0m\u001b[1;33m\u001b[0m\u001b[0m\n\u001b[0m\u001b[0;32m      7\u001b[0m \u001b[1;33m\u001b[0m\u001b[0m\n",
      "\u001b[1;31mKeyError\u001b[0m: '609'"
     ]
    }
   ],
   "source": [
    "j = 0\n",
    "for i in train_pos_arr:\n",
    "    if j > 2:\n",
    "        break\n",
    "    j += 1\n",
    "    print(vec[str(i[1])])\n",
    "\n"
   ]
  },
  {
   "cell_type": "code",
   "execution_count": 15,
   "metadata": {},
   "outputs": [],
   "source": [
    "def bottle(n):\n",
    "    e = 0\n",
    "    l = n\n",
    "    while(n + e>= 3):\n",
    "        n -= 1\n",
    "        e += 1\n",
    "        if e == 3:\n",
    "            e = 0\n",
    "            n += 1\n",
    "            l += 1\n",
    "    return l"
   ]
  },
  {
   "cell_type": "code",
   "execution_count": 16,
   "metadata": {},
   "outputs": [
    {
     "name": "stdout",
     "output_type": "stream",
     "text": [
      "time: 23\n",
      "\n"
     ]
    }
   ],
   "source": [
    "print('time: %d\\n' %(bottle(16)))"
   ]
  }
 ],
 "metadata": {
  "kernelspec": {
   "display_name": "Python 3",
   "language": "python",
   "name": "python3"
  },
  "language_info": {
   "codemirror_mode": {
    "name": "ipython",
    "version": 3
   },
   "file_extension": ".py",
   "mimetype": "text/x-python",
   "name": "python",
   "nbconvert_exporter": "python",
   "pygments_lexer": "ipython3",
   "version": "3.6.8"
  }
 },
 "nbformat": 4,
 "nbformat_minor": 2
}
